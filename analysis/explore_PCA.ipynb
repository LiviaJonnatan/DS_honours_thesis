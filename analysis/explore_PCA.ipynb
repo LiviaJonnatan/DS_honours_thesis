{
 "cells": [
  {
   "cell_type": "markdown",
   "id": "4aa4e740-16a6-4edd-b1e9-dada0c68e938",
   "metadata": {},
   "source": [
    "# Exploring PCA"
   ]
  },
  {
   "cell_type": "code",
   "execution_count": 1,
   "id": "b07e510a-6bb8-4f82-8f38-1cff3f46d596",
   "metadata": {},
   "outputs": [],
   "source": [
    "import pandas as pd\n",
    "import numpy as np\n",
    "import matplotlib.pyplot as plt\n",
    "from sklearn.decomposition import PCA\n",
    "from sklearn.preprocessing import StandardScaler"
   ]
  },
  {
   "cell_type": "code",
   "execution_count": 2,
   "id": "a9a68a4b-5506-40cd-b809-15435a150509",
   "metadata": {},
   "outputs": [],
   "source": [
    "gen = pd.read_csv(\"gen_mean_step_diff.csv\")"
   ]
  },
  {
   "cell_type": "code",
   "execution_count": 3,
   "id": "43751497-cff6-4e35-af9d-4375bd49ced0",
   "metadata": {},
   "outputs": [
    {
     "name": "stdout",
     "output_type": "stream",
     "text": [
      "<class 'pandas.core.frame.DataFrame'>\n",
      "RangeIndex: 7111297 entries, 0 to 7111296\n",
      "Data columns (total 28 columns):\n",
      " #   Column                           Dtype  \n",
      "---  ------                           -----  \n",
      " 0   Time                             object \n",
      " 1   AnimalID                         int64  \n",
      " 2   Step                             int64  \n",
      " 3   dt                               object \n",
      " 4   key                              object \n",
      " 5   estrus                           int64  \n",
      " 6   step_diff                        float64\n",
      " 7   step_diff_hr                     float64\n",
      " 8   step_diff_one_half               float64\n",
      " 9   step_diff_3hr                    float64\n",
      " 10  step_diff_6hr                    float64\n",
      " 11  step_diff_12hr                   float64\n",
      " 12  step_diff_30min                  float64\n",
      " 13  minute                           int64  \n",
      " 14  hour                             int64  \n",
      " 15  month                            int64  \n",
      " 16  step_diff_30min_mean_by_cow      float64\n",
      " 17  step_diff_hr_mean_by_cow         float64\n",
      " 18  step_diff_one_half_mean_by_cow   float64\n",
      " 19  step_diff_3hr_mean_by_cow        float64\n",
      " 20  step_diff_6hr_mean_by_cow        float64\n",
      " 21  step_diff_12hr_mean_by_cow       float64\n",
      " 22  step_diff_30min_mean_overall     float64\n",
      " 23  step_diff_hr_mean_overall        float64\n",
      " 24  step_diff_one_half_mean_overall  float64\n",
      " 25  step_diff_3hr_mean_overall       float64\n",
      " 26  step_diff_6hr_mean_overall       float64\n",
      " 27  step_diff_12hr_mean_overall      float64\n",
      "dtypes: float64(19), int64(6), object(3)\n",
      "memory usage: 1.5+ GB\n"
     ]
    }
   ],
   "source": [
    "gen.info()"
   ]
  },
  {
   "cell_type": "code",
   "execution_count": 4,
   "id": "782f7668-10f9-48dd-8660-edd5442c6fc3",
   "metadata": {},
   "outputs": [],
   "source": [
    "X = gen.loc[:, ~gen.columns.isin(['Time', 'AnimalID', 'dt', 'key', 'estrus'])]"
   ]
  },
  {
   "cell_type": "code",
   "execution_count": 5,
   "id": "208fa751-20d6-437c-a5c2-3b30eb391043",
   "metadata": {},
   "outputs": [
    {
     "data": {
      "text/html": [
       "<div>\n",
       "<style scoped>\n",
       "    .dataframe tbody tr th:only-of-type {\n",
       "        vertical-align: middle;\n",
       "    }\n",
       "\n",
       "    .dataframe tbody tr th {\n",
       "        vertical-align: top;\n",
       "    }\n",
       "\n",
       "    .dataframe thead th {\n",
       "        text-align: right;\n",
       "    }\n",
       "</style>\n",
       "<table border=\"1\" class=\"dataframe\">\n",
       "  <thead>\n",
       "    <tr style=\"text-align: right;\">\n",
       "      <th></th>\n",
       "      <th>Step</th>\n",
       "      <th>step_diff</th>\n",
       "      <th>step_diff_hr</th>\n",
       "      <th>step_diff_one_half</th>\n",
       "      <th>step_diff_3hr</th>\n",
       "      <th>step_diff_6hr</th>\n",
       "      <th>step_diff_12hr</th>\n",
       "      <th>step_diff_30min</th>\n",
       "      <th>minute</th>\n",
       "      <th>hour</th>\n",
       "      <th>...</th>\n",
       "      <th>step_diff_one_half_mean_by_cow</th>\n",
       "      <th>step_diff_3hr_mean_by_cow</th>\n",
       "      <th>step_diff_6hr_mean_by_cow</th>\n",
       "      <th>step_diff_12hr_mean_by_cow</th>\n",
       "      <th>step_diff_30min_mean_overall</th>\n",
       "      <th>step_diff_hr_mean_overall</th>\n",
       "      <th>step_diff_one_half_mean_overall</th>\n",
       "      <th>step_diff_3hr_mean_overall</th>\n",
       "      <th>step_diff_6hr_mean_overall</th>\n",
       "      <th>step_diff_12hr_mean_overall</th>\n",
       "    </tr>\n",
       "  </thead>\n",
       "  <tbody>\n",
       "    <tr>\n",
       "      <th>0</th>\n",
       "      <td>25972</td>\n",
       "      <td>NaN</td>\n",
       "      <td>NaN</td>\n",
       "      <td>NaN</td>\n",
       "      <td>NaN</td>\n",
       "      <td>NaN</td>\n",
       "      <td>NaN</td>\n",
       "      <td>NaN</td>\n",
       "      <td>13</td>\n",
       "      <td>3</td>\n",
       "      <td>...</td>\n",
       "      <td>452.817697</td>\n",
       "      <td>693.016896</td>\n",
       "      <td>1301.377056</td>\n",
       "      <td>2458.957314</td>\n",
       "      <td>96.742958</td>\n",
       "      <td>217.879726</td>\n",
       "      <td>337.088484</td>\n",
       "      <td>650.995148</td>\n",
       "      <td>1330.008089</td>\n",
       "      <td>2708.946955</td>\n",
       "    </tr>\n",
       "    <tr>\n",
       "      <th>1</th>\n",
       "      <td>25980</td>\n",
       "      <td>8.0</td>\n",
       "      <td>NaN</td>\n",
       "      <td>NaN</td>\n",
       "      <td>NaN</td>\n",
       "      <td>NaN</td>\n",
       "      <td>NaN</td>\n",
       "      <td>NaN</td>\n",
       "      <td>28</td>\n",
       "      <td>3</td>\n",
       "      <td>...</td>\n",
       "      <td>452.817697</td>\n",
       "      <td>693.016896</td>\n",
       "      <td>1301.377056</td>\n",
       "      <td>2458.957314</td>\n",
       "      <td>96.742958</td>\n",
       "      <td>217.879726</td>\n",
       "      <td>337.088484</td>\n",
       "      <td>650.995148</td>\n",
       "      <td>1330.008089</td>\n",
       "      <td>2708.946955</td>\n",
       "    </tr>\n",
       "    <tr>\n",
       "      <th>2</th>\n",
       "      <td>25980</td>\n",
       "      <td>0.0</td>\n",
       "      <td>NaN</td>\n",
       "      <td>NaN</td>\n",
       "      <td>NaN</td>\n",
       "      <td>NaN</td>\n",
       "      <td>NaN</td>\n",
       "      <td>8.0</td>\n",
       "      <td>58</td>\n",
       "      <td>3</td>\n",
       "      <td>...</td>\n",
       "      <td>452.817697</td>\n",
       "      <td>693.016896</td>\n",
       "      <td>1301.377056</td>\n",
       "      <td>2458.957314</td>\n",
       "      <td>96.742958</td>\n",
       "      <td>217.879726</td>\n",
       "      <td>337.088484</td>\n",
       "      <td>650.995148</td>\n",
       "      <td>1330.008089</td>\n",
       "      <td>2708.946955</td>\n",
       "    </tr>\n",
       "    <tr>\n",
       "      <th>3</th>\n",
       "      <td>25980</td>\n",
       "      <td>0.0</td>\n",
       "      <td>NaN</td>\n",
       "      <td>NaN</td>\n",
       "      <td>NaN</td>\n",
       "      <td>NaN</td>\n",
       "      <td>NaN</td>\n",
       "      <td>0.0</td>\n",
       "      <td>13</td>\n",
       "      <td>4</td>\n",
       "      <td>...</td>\n",
       "      <td>713.381768</td>\n",
       "      <td>1802.338820</td>\n",
       "      <td>3462.056927</td>\n",
       "      <td>5530.768861</td>\n",
       "      <td>97.005921</td>\n",
       "      <td>213.579753</td>\n",
       "      <td>328.236712</td>\n",
       "      <td>665.264504</td>\n",
       "      <td>1314.463240</td>\n",
       "      <td>2671.107295</td>\n",
       "    </tr>\n",
       "    <tr>\n",
       "      <th>4</th>\n",
       "      <td>25980</td>\n",
       "      <td>0.0</td>\n",
       "      <td>8.0</td>\n",
       "      <td>NaN</td>\n",
       "      <td>NaN</td>\n",
       "      <td>NaN</td>\n",
       "      <td>NaN</td>\n",
       "      <td>0.0</td>\n",
       "      <td>28</td>\n",
       "      <td>4</td>\n",
       "      <td>...</td>\n",
       "      <td>713.381768</td>\n",
       "      <td>1802.338820</td>\n",
       "      <td>3462.056927</td>\n",
       "      <td>5530.768861</td>\n",
       "      <td>97.005921</td>\n",
       "      <td>213.579753</td>\n",
       "      <td>328.236712</td>\n",
       "      <td>665.264504</td>\n",
       "      <td>1314.463240</td>\n",
       "      <td>2671.107295</td>\n",
       "    </tr>\n",
       "  </tbody>\n",
       "</table>\n",
       "<p>5 rows × 23 columns</p>\n",
       "</div>"
      ],
      "text/plain": [
       "    Step  step_diff  step_diff_hr  step_diff_one_half  step_diff_3hr  \\\n",
       "0  25972        NaN           NaN                 NaN            NaN   \n",
       "1  25980        8.0           NaN                 NaN            NaN   \n",
       "2  25980        0.0           NaN                 NaN            NaN   \n",
       "3  25980        0.0           NaN                 NaN            NaN   \n",
       "4  25980        0.0           8.0                 NaN            NaN   \n",
       "\n",
       "   step_diff_6hr  step_diff_12hr  step_diff_30min  minute  hour  ...  \\\n",
       "0            NaN             NaN              NaN      13     3  ...   \n",
       "1            NaN             NaN              NaN      28     3  ...   \n",
       "2            NaN             NaN              8.0      58     3  ...   \n",
       "3            NaN             NaN              0.0      13     4  ...   \n",
       "4            NaN             NaN              0.0      28     4  ...   \n",
       "\n",
       "   step_diff_one_half_mean_by_cow  step_diff_3hr_mean_by_cow  \\\n",
       "0                      452.817697                 693.016896   \n",
       "1                      452.817697                 693.016896   \n",
       "2                      452.817697                 693.016896   \n",
       "3                      713.381768                1802.338820   \n",
       "4                      713.381768                1802.338820   \n",
       "\n",
       "   step_diff_6hr_mean_by_cow  step_diff_12hr_mean_by_cow  \\\n",
       "0                1301.377056                 2458.957314   \n",
       "1                1301.377056                 2458.957314   \n",
       "2                1301.377056                 2458.957314   \n",
       "3                3462.056927                 5530.768861   \n",
       "4                3462.056927                 5530.768861   \n",
       "\n",
       "   step_diff_30min_mean_overall  step_diff_hr_mean_overall  \\\n",
       "0                     96.742958                 217.879726   \n",
       "1                     96.742958                 217.879726   \n",
       "2                     96.742958                 217.879726   \n",
       "3                     97.005921                 213.579753   \n",
       "4                     97.005921                 213.579753   \n",
       "\n",
       "   step_diff_one_half_mean_overall  step_diff_3hr_mean_overall  \\\n",
       "0                       337.088484                  650.995148   \n",
       "1                       337.088484                  650.995148   \n",
       "2                       337.088484                  650.995148   \n",
       "3                       328.236712                  665.264504   \n",
       "4                       328.236712                  665.264504   \n",
       "\n",
       "   step_diff_6hr_mean_overall  step_diff_12hr_mean_overall  \n",
       "0                 1330.008089                  2708.946955  \n",
       "1                 1330.008089                  2708.946955  \n",
       "2                 1330.008089                  2708.946955  \n",
       "3                 1314.463240                  2671.107295  \n",
       "4                 1314.463240                  2671.107295  \n",
       "\n",
       "[5 rows x 23 columns]"
      ]
     },
     "execution_count": 5,
     "metadata": {},
     "output_type": "execute_result"
    }
   ],
   "source": [
    "X.head()"
   ]
  },
  {
   "cell_type": "code",
   "execution_count": 7,
   "id": "7fdc993e-6194-428e-9c1e-e8ff7d9ffaab",
   "metadata": {},
   "outputs": [],
   "source": [
    "pd.set_option(\"mode.chained_assignment\", None)"
   ]
  },
  {
   "cell_type": "code",
   "execution_count": 8,
   "id": "510745b7-b7f0-4ec1-9799-57c3f3735d1f",
   "metadata": {},
   "outputs": [],
   "source": [
    "X[\"step_diff\"].fillna(0,inplace=True)\n",
    "X[\"step_diff_30min\"].fillna(0,inplace=True)\n",
    "X[\"step_diff_hr\"].fillna(0,inplace=True)\n",
    "X[\"step_diff_one_half\"].fillna(0,inplace=True)\n",
    "X[\"step_diff_3hr\"].fillna(0,inplace=True)\n",
    "X[\"step_diff_6hr\"].fillna(0,inplace=True)\n",
    "X[\"step_diff_12hr\"].fillna(0,inplace=True)"
   ]
  },
  {
   "cell_type": "code",
   "execution_count": 9,
   "id": "ac50b554-bb22-4ab3-b2f6-6212f2fd4244",
   "metadata": {},
   "outputs": [],
   "source": [
    "scaler = StandardScaler()\n",
    "X = scaler.fit_transform(X)"
   ]
  },
  {
   "cell_type": "code",
   "execution_count": 10,
   "id": "ade106d2-1fad-41be-b895-e90e0f4d0ac0",
   "metadata": {},
   "outputs": [],
   "source": [
    "pca = PCA()\n",
    "X_pca = pca.fit_transform(X)"
   ]
  },
  {
   "cell_type": "code",
   "execution_count": 11,
   "id": "21fa9001-7bab-4d1f-8122-fc33f460205d",
   "metadata": {},
   "outputs": [
    {
     "data": {
      "image/png": "[encoded data removed]",
      "text/plain": [
       "<Figure size 432x288 with 1 Axes>"
      ]
     },
     "metadata": {
      "needs_background": "light"
     },
     "output_type": "display_data"
    }
   ],
   "source": [
    "plt.bar(range(1, 24), pca.explained_variance_ratio_)\n",
    "plt.xlabel('Principal Component')\n",
    "plt.ylabel('Explained Variance Ratio')\n",
    "plt.show()"
   ]
  },
  {
   "cell_type": "code",
   "execution_count": 12,
   "id": "9bca261a-6e73-4357-92a1-3a3923ce414a",
   "metadata": {},
   "outputs": [
    {
     "data": {
      "image/png": "[encoded data removed]",
      "text/plain": [
       "<Figure size 432x288 with 1 Axes>"
      ]
     },
     "metadata": {
      "needs_background": "light"
     },
     "output_type": "display_data"
    },
    {
     "data": {
      "image/png": "[encoded data removed]",
      "text/plain": [
       "<Figure size 432x288 with 1 Axes>"
      ]
     },
     "metadata": {
      "needs_background": "light"
     },
     "output_type": "display_data"
    }
   ],
   "source": [
    "# Create scree plot\n",
    "plt.plot(np.arange(1, pca.n_components_ + 1), pca.explained_variance_ratio_, 'bo-')\n",
    "plt.xticks(np.arange(1, pca.n_components_ + 1))\n",
    "plt.xlabel('Component')\n",
    "plt.ylabel('Explained variance ratio')\n",
    "plt.show()\n",
    "\n",
    "# Create cumulative explained variance plot\n",
    "plt.plot(np.arange(1, pca.n_components_ + 1), np.cumsum(pca.explained_variance_ratio_), 'bo-')\n",
    "plt.xticks(np.arange(1, pca.n_components_ + 1))\n",
    "plt.xlabel('Number of components')\n",
    "plt.ylabel('Cumulative explained variance')\n",
    "plt.show()"
   ]
  },
  {
   "cell_type": "code",
   "execution_count": null,
   "id": "c7824e76-1eaf-4d14-b2a6-470980fb11dc",
   "metadata": {},
   "outputs": [],
   "source": []
  }
 ],
 "metadata": {
  "kernelspec": {
   "display_name": "Python 3 (ipykernel)",
   "language": "python",
   "name": "python3"
  },
  "language_info": {
   "codemirror_mode": {
    "name": "ipython",
    "version": 3
   },
   "file_extension": ".py",
   "mimetype": "text/x-python",
   "name": "python",
   "nbconvert_exporter": "python",
   "pygments_lexer": "ipython3",
   "version": "3.10.5"
  }
 },
 "nbformat": 4,
 "nbformat_minor": 5
}
